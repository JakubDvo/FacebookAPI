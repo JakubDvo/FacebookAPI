{
 "cells": [
  {
   "cell_type": "markdown",
   "metadata": {},
   "source": [
    "## Facebook API"
   ]
  },
  {
   "cell_type": "markdown",
   "metadata": {},
   "source": [
    "This notebook is based on: https://github.com/minimaxir/facebook-page-post-scraper/blob/master/examples/how_to_build_facebook_scraper.ipynb"
   ]
  },
  {
   "cell_type": "code",
   "execution_count": 1,
   "metadata": {
    "collapsed": true
   },
   "outputs": [],
   "source": [
    "# import some Python dependencies\n",
    "import urllib2\n",
    "import json\n",
    "import datetime\n",
    "import csv\n",
    "import time"
   ]
  },
  {
   "cell_type": "code",
   "execution_count": 2,
   "metadata": {
    "collapsed": true
   },
   "outputs": [],
   "source": [
    "app_id = ''\n",
    "app_secret = ''\n",
    "\n",
    "access_token = app_id + \"|\" + app_secret\n"
   ]
  },
  {
   "cell_type": "code",
   "execution_count": 3,
   "metadata": {
    "collapsed": true
   },
   "outputs": [],
   "source": [
    "def testFacebookPageFeedData(page_id, access_token):\n",
    "    base = \"https://graph.facebook.com/v2.4\"\n",
    "    node = \"/\" + page_id + \"feed\"\n",
    "    parameters = \"/?access_token=%s\" % access_token\n",
    "    url = base + node + parameters\n",
    "    \n",
    "    # retrieve data\n",
    "    req = urllib2.Request(url)\n",
    "    response = urllib2.urlopen(req)\n",
    "    data = json.loads(response.read())\n",
    "    print json.dumps(data, indent = 4, sort_keys = True)"
   ]
  },
  {
   "cell_type": "code",
   "execution_count": 14,
   "metadata": {
    "collapsed": false
   },
   "outputs": [
    {
     "ename": "HTTPError",
     "evalue": "HTTP Error 404: Not Found",
     "output_type": "error",
     "traceback": [
      "\u001b[0;31m---------------------------------------------------------------------------\u001b[0m",
      "\u001b[0;31mHTTPError\u001b[0m                                 Traceback (most recent call last)",
      "\u001b[0;32m<ipython-input-14-6f0ebd42b384>\u001b[0m in \u001b[0;36m<module>\u001b[0;34m()\u001b[0m\n\u001b[0;32m----> 1\u001b[0;31m \u001b[0mtestFacebookPageFeedData\u001b[0m\u001b[1;33m(\u001b[0m\u001b[1;34m\"gary\"\u001b[0m\u001b[1;33m,\u001b[0m \u001b[0maccess_token\u001b[0m\u001b[1;33m)\u001b[0m\u001b[1;33m\u001b[0m\u001b[0m\n\u001b[0m",
      "\u001b[0;32m<ipython-input-11-e52348692c4c>\u001b[0m in \u001b[0;36mtestFacebookPageFeedData\u001b[0;34m(page_id, access_token)\u001b[0m\n\u001b[1;32m      7\u001b[0m     \u001b[1;31m# retrieve data\u001b[0m\u001b[1;33m\u001b[0m\u001b[1;33m\u001b[0m\u001b[0m\n\u001b[1;32m      8\u001b[0m     \u001b[0mreq\u001b[0m \u001b[1;33m=\u001b[0m \u001b[0murllib2\u001b[0m\u001b[1;33m.\u001b[0m\u001b[0mRequest\u001b[0m\u001b[1;33m(\u001b[0m\u001b[0murl\u001b[0m\u001b[1;33m)\u001b[0m\u001b[1;33m\u001b[0m\u001b[0m\n\u001b[0;32m----> 9\u001b[0;31m     \u001b[0mresponse\u001b[0m \u001b[1;33m=\u001b[0m \u001b[0murllib2\u001b[0m\u001b[1;33m.\u001b[0m\u001b[0murlopen\u001b[0m\u001b[1;33m(\u001b[0m\u001b[0mreq\u001b[0m\u001b[1;33m)\u001b[0m\u001b[1;33m\u001b[0m\u001b[0m\n\u001b[0m\u001b[1;32m     10\u001b[0m     \u001b[0mdata\u001b[0m \u001b[1;33m=\u001b[0m \u001b[0mjson\u001b[0m\u001b[1;33m.\u001b[0m\u001b[0mloads\u001b[0m\u001b[1;33m(\u001b[0m\u001b[0mresponse\u001b[0m\u001b[1;33m.\u001b[0m\u001b[0mread\u001b[0m\u001b[1;33m(\u001b[0m\u001b[1;33m)\u001b[0m\u001b[1;33m)\u001b[0m\u001b[1;33m\u001b[0m\u001b[0m\n\u001b[1;32m     11\u001b[0m     \u001b[1;32mprint\u001b[0m \u001b[0mjson\u001b[0m\u001b[1;33m.\u001b[0m\u001b[0mdumps\u001b[0m\u001b[1;33m(\u001b[0m\u001b[0mdata\u001b[0m\u001b[1;33m,\u001b[0m \u001b[0mindent\u001b[0m \u001b[1;33m=\u001b[0m \u001b[1;36m4\u001b[0m\u001b[1;33m,\u001b[0m \u001b[0msort_keys\u001b[0m \u001b[1;33m=\u001b[0m \u001b[0mTrue\u001b[0m\u001b[1;33m)\u001b[0m\u001b[1;33m\u001b[0m\u001b[0m\n",
      "\u001b[0;32mC:\\ProgramData\\Anaconda2\\lib\\urllib2.py\u001b[0m in \u001b[0;36murlopen\u001b[0;34m(url, data, timeout, cafile, capath, cadefault, context)\u001b[0m\n\u001b[1;32m    152\u001b[0m     \u001b[1;32melse\u001b[0m\u001b[1;33m:\u001b[0m\u001b[1;33m\u001b[0m\u001b[0m\n\u001b[1;32m    153\u001b[0m         \u001b[0mopener\u001b[0m \u001b[1;33m=\u001b[0m \u001b[0m_opener\u001b[0m\u001b[1;33m\u001b[0m\u001b[0m\n\u001b[0;32m--> 154\u001b[0;31m     \u001b[1;32mreturn\u001b[0m \u001b[0mopener\u001b[0m\u001b[1;33m.\u001b[0m\u001b[0mopen\u001b[0m\u001b[1;33m(\u001b[0m\u001b[0murl\u001b[0m\u001b[1;33m,\u001b[0m \u001b[0mdata\u001b[0m\u001b[1;33m,\u001b[0m \u001b[0mtimeout\u001b[0m\u001b[1;33m)\u001b[0m\u001b[1;33m\u001b[0m\u001b[0m\n\u001b[0m\u001b[1;32m    155\u001b[0m \u001b[1;33m\u001b[0m\u001b[0m\n\u001b[1;32m    156\u001b[0m \u001b[1;32mdef\u001b[0m \u001b[0minstall_opener\u001b[0m\u001b[1;33m(\u001b[0m\u001b[0mopener\u001b[0m\u001b[1;33m)\u001b[0m\u001b[1;33m:\u001b[0m\u001b[1;33m\u001b[0m\u001b[0m\n",
      "\u001b[0;32mC:\\ProgramData\\Anaconda2\\lib\\urllib2.py\u001b[0m in \u001b[0;36mopen\u001b[0;34m(self, fullurl, data, timeout)\u001b[0m\n\u001b[1;32m    433\u001b[0m         \u001b[1;32mfor\u001b[0m \u001b[0mprocessor\u001b[0m \u001b[1;32min\u001b[0m \u001b[0mself\u001b[0m\u001b[1;33m.\u001b[0m\u001b[0mprocess_response\u001b[0m\u001b[1;33m.\u001b[0m\u001b[0mget\u001b[0m\u001b[1;33m(\u001b[0m\u001b[0mprotocol\u001b[0m\u001b[1;33m,\u001b[0m \u001b[1;33m[\u001b[0m\u001b[1;33m]\u001b[0m\u001b[1;33m)\u001b[0m\u001b[1;33m:\u001b[0m\u001b[1;33m\u001b[0m\u001b[0m\n\u001b[1;32m    434\u001b[0m             \u001b[0mmeth\u001b[0m \u001b[1;33m=\u001b[0m \u001b[0mgetattr\u001b[0m\u001b[1;33m(\u001b[0m\u001b[0mprocessor\u001b[0m\u001b[1;33m,\u001b[0m \u001b[0mmeth_name\u001b[0m\u001b[1;33m)\u001b[0m\u001b[1;33m\u001b[0m\u001b[0m\n\u001b[0;32m--> 435\u001b[0;31m             \u001b[0mresponse\u001b[0m \u001b[1;33m=\u001b[0m \u001b[0mmeth\u001b[0m\u001b[1;33m(\u001b[0m\u001b[0mreq\u001b[0m\u001b[1;33m,\u001b[0m \u001b[0mresponse\u001b[0m\u001b[1;33m)\u001b[0m\u001b[1;33m\u001b[0m\u001b[0m\n\u001b[0m\u001b[1;32m    436\u001b[0m \u001b[1;33m\u001b[0m\u001b[0m\n\u001b[1;32m    437\u001b[0m         \u001b[1;32mreturn\u001b[0m \u001b[0mresponse\u001b[0m\u001b[1;33m\u001b[0m\u001b[0m\n",
      "\u001b[0;32mC:\\ProgramData\\Anaconda2\\lib\\urllib2.py\u001b[0m in \u001b[0;36mhttp_response\u001b[0;34m(self, request, response)\u001b[0m\n\u001b[1;32m    546\u001b[0m         \u001b[1;32mif\u001b[0m \u001b[1;32mnot\u001b[0m \u001b[1;33m(\u001b[0m\u001b[1;36m200\u001b[0m \u001b[1;33m<=\u001b[0m \u001b[0mcode\u001b[0m \u001b[1;33m<\u001b[0m \u001b[1;36m300\u001b[0m\u001b[1;33m)\u001b[0m\u001b[1;33m:\u001b[0m\u001b[1;33m\u001b[0m\u001b[0m\n\u001b[1;32m    547\u001b[0m             response = self.parent.error(\n\u001b[0;32m--> 548\u001b[0;31m                 'http', request, response, code, msg, hdrs)\n\u001b[0m\u001b[1;32m    549\u001b[0m \u001b[1;33m\u001b[0m\u001b[0m\n\u001b[1;32m    550\u001b[0m         \u001b[1;32mreturn\u001b[0m \u001b[0mresponse\u001b[0m\u001b[1;33m\u001b[0m\u001b[0m\n",
      "\u001b[0;32mC:\\ProgramData\\Anaconda2\\lib\\urllib2.py\u001b[0m in \u001b[0;36merror\u001b[0;34m(self, proto, *args)\u001b[0m\n\u001b[1;32m    471\u001b[0m         \u001b[1;32mif\u001b[0m \u001b[0mhttp_err\u001b[0m\u001b[1;33m:\u001b[0m\u001b[1;33m\u001b[0m\u001b[0m\n\u001b[1;32m    472\u001b[0m             \u001b[0margs\u001b[0m \u001b[1;33m=\u001b[0m \u001b[1;33m(\u001b[0m\u001b[0mdict\u001b[0m\u001b[1;33m,\u001b[0m \u001b[1;34m'default'\u001b[0m\u001b[1;33m,\u001b[0m \u001b[1;34m'http_error_default'\u001b[0m\u001b[1;33m)\u001b[0m \u001b[1;33m+\u001b[0m \u001b[0morig_args\u001b[0m\u001b[1;33m\u001b[0m\u001b[0m\n\u001b[0;32m--> 473\u001b[0;31m             \u001b[1;32mreturn\u001b[0m \u001b[0mself\u001b[0m\u001b[1;33m.\u001b[0m\u001b[0m_call_chain\u001b[0m\u001b[1;33m(\u001b[0m\u001b[1;33m*\u001b[0m\u001b[0margs\u001b[0m\u001b[1;33m)\u001b[0m\u001b[1;33m\u001b[0m\u001b[0m\n\u001b[0m\u001b[1;32m    474\u001b[0m \u001b[1;33m\u001b[0m\u001b[0m\n\u001b[1;32m    475\u001b[0m \u001b[1;31m# XXX probably also want an abstract factory that knows when it makes\u001b[0m\u001b[1;33m\u001b[0m\u001b[1;33m\u001b[0m\u001b[0m\n",
      "\u001b[0;32mC:\\ProgramData\\Anaconda2\\lib\\urllib2.py\u001b[0m in \u001b[0;36m_call_chain\u001b[0;34m(self, chain, kind, meth_name, *args)\u001b[0m\n\u001b[1;32m    405\u001b[0m             \u001b[0mfunc\u001b[0m \u001b[1;33m=\u001b[0m \u001b[0mgetattr\u001b[0m\u001b[1;33m(\u001b[0m\u001b[0mhandler\u001b[0m\u001b[1;33m,\u001b[0m \u001b[0mmeth_name\u001b[0m\u001b[1;33m)\u001b[0m\u001b[1;33m\u001b[0m\u001b[0m\n\u001b[1;32m    406\u001b[0m \u001b[1;33m\u001b[0m\u001b[0m\n\u001b[0;32m--> 407\u001b[0;31m             \u001b[0mresult\u001b[0m \u001b[1;33m=\u001b[0m \u001b[0mfunc\u001b[0m\u001b[1;33m(\u001b[0m\u001b[1;33m*\u001b[0m\u001b[0margs\u001b[0m\u001b[1;33m)\u001b[0m\u001b[1;33m\u001b[0m\u001b[0m\n\u001b[0m\u001b[1;32m    408\u001b[0m             \u001b[1;32mif\u001b[0m \u001b[0mresult\u001b[0m \u001b[1;32mis\u001b[0m \u001b[1;32mnot\u001b[0m \u001b[0mNone\u001b[0m\u001b[1;33m:\u001b[0m\u001b[1;33m\u001b[0m\u001b[0m\n\u001b[1;32m    409\u001b[0m                 \u001b[1;32mreturn\u001b[0m \u001b[0mresult\u001b[0m\u001b[1;33m\u001b[0m\u001b[0m\n",
      "\u001b[0;32mC:\\ProgramData\\Anaconda2\\lib\\urllib2.py\u001b[0m in \u001b[0;36mhttp_error_default\u001b[0;34m(self, req, fp, code, msg, hdrs)\u001b[0m\n\u001b[1;32m    554\u001b[0m \u001b[1;32mclass\u001b[0m \u001b[0mHTTPDefaultErrorHandler\u001b[0m\u001b[1;33m(\u001b[0m\u001b[0mBaseHandler\u001b[0m\u001b[1;33m)\u001b[0m\u001b[1;33m:\u001b[0m\u001b[1;33m\u001b[0m\u001b[0m\n\u001b[1;32m    555\u001b[0m     \u001b[1;32mdef\u001b[0m \u001b[0mhttp_error_default\u001b[0m\u001b[1;33m(\u001b[0m\u001b[0mself\u001b[0m\u001b[1;33m,\u001b[0m \u001b[0mreq\u001b[0m\u001b[1;33m,\u001b[0m \u001b[0mfp\u001b[0m\u001b[1;33m,\u001b[0m \u001b[0mcode\u001b[0m\u001b[1;33m,\u001b[0m \u001b[0mmsg\u001b[0m\u001b[1;33m,\u001b[0m \u001b[0mhdrs\u001b[0m\u001b[1;33m)\u001b[0m\u001b[1;33m:\u001b[0m\u001b[1;33m\u001b[0m\u001b[0m\n\u001b[0;32m--> 556\u001b[0;31m         \u001b[1;32mraise\u001b[0m \u001b[0mHTTPError\u001b[0m\u001b[1;33m(\u001b[0m\u001b[0mreq\u001b[0m\u001b[1;33m.\u001b[0m\u001b[0mget_full_url\u001b[0m\u001b[1;33m(\u001b[0m\u001b[1;33m)\u001b[0m\u001b[1;33m,\u001b[0m \u001b[0mcode\u001b[0m\u001b[1;33m,\u001b[0m \u001b[0mmsg\u001b[0m\u001b[1;33m,\u001b[0m \u001b[0mhdrs\u001b[0m\u001b[1;33m,\u001b[0m \u001b[0mfp\u001b[0m\u001b[1;33m)\u001b[0m\u001b[1;33m\u001b[0m\u001b[0m\n\u001b[0m\u001b[1;32m    557\u001b[0m \u001b[1;33m\u001b[0m\u001b[0m\n\u001b[1;32m    558\u001b[0m \u001b[1;32mclass\u001b[0m \u001b[0mHTTPRedirectHandler\u001b[0m\u001b[1;33m(\u001b[0m\u001b[0mBaseHandler\u001b[0m\u001b[1;33m)\u001b[0m\u001b[1;33m:\u001b[0m\u001b[1;33m\u001b[0m\u001b[0m\n",
      "\u001b[0;31mHTTPError\u001b[0m: HTTP Error 404: Not Found"
     ]
    }
   ],
   "source": [
    "testFacebookPageFeedData(\"gary\", access_token)"
   ]
  },
  {
   "cell_type": "code",
   "execution_count": 4,
   "metadata": {
    "collapsed": true
   },
   "outputs": [],
   "source": [
    "def request_until_succeed(url):\n",
    "    req = urllib2.Request(url)\n",
    "    success = False\n",
    "    while success is False:\n",
    "        try: \n",
    "            response = urllib2.urlopen(req)\n",
    "            if response.getcode() == 200:\n",
    "                success = True\n",
    "        except Exception, e:\n",
    "            print e\n",
    "            time.sleep(5)\n",
    "            \n",
    "            print \"Error for URL %s: %s\" % (url, datetime.datetime.now())\n",
    "\n",
    "    return response.read()"
   ]
  },
  {
   "cell_type": "code",
   "execution_count": 5,
   "metadata": {
    "collapsed": true
   },
   "outputs": [],
   "source": [
    "def testFacebookPageFeedData(page_id, access_token):\n",
    "    \n",
    "    # construct the URL string\n",
    "    base = \"https://graph.facebook.com/v2.4\"\n",
    "    node = \"/\" + page_id + \"/feed\" # changed\n",
    "    parameters = \"/?access_token=%s\" % access_token\n",
    "    url = base + node + parameters\n",
    "    \n",
    "    # retrieve data\n",
    "    data = json.loads(request_until_succeed(url))\n",
    "    \n",
    "    print json.dumps(data, indent=4, sort_keys=True)"
   ]
  },
  {
   "cell_type": "code",
   "execution_count": 7,
   "metadata": {
    "collapsed": false
   },
   "outputs": [
    {
     "name": "stdout",
     "output_type": "stream",
     "text": [
      "{\n",
      "    \"data\": [\n",
      "        {\n",
      "            \"created_time\": \"2017-06-25T18:25:00+0000\", \n",
      "            \"id\": \"5281959998_10151213270219999\", \n",
      "            \"message\": \"\\\"Every time you lose a corner store, every time you lose a restaurant, every time you lose a small clothing store, it detracts from the quality of life, as well as the job loss.\\\"\"\n",
      "        }, \n",
      "        {\n",
      "            \"created_time\": \"2017-06-25T17:55:00+0000\", \n",
      "            \"id\": \"5281959998_10151213239774999\", \n",
      "            \"message\": \"How President Donald J. Trump formed a bond with families of people killed by undocumented immigrants.\"\n",
      "        }, \n",
      "        {\n",
      "            \"created_time\": \"2017-06-25T17:25:01+0000\", \n",
      "            \"id\": \"5281959998_10151213240569999\", \n",
      "            \"message\": \"\\\"The transformation of the heart is a wondrous thing, no matter how you land there,\\\" Patti Smith wrote about falling in love with Rockaway Beach.\"\n",
      "        }, \n",
      "        {\n",
      "            \"created_time\": \"2017-06-25T16:55:00+0000\", \n",
      "            \"id\": \"5281959998_10151213233259999\", \n",
      "            \"message\": \"Italy has registered more than 70,000 migrants this year, 27% more than it did by this time in 2016, when a record 181,000 migrants arrived.\"\n",
      "        }, \n",
      "        {\n",
      "            \"created_time\": \"2017-06-25T16:25:00+0000\", \n",
      "            \"id\": \"5281959998_1879898522227661\", \n",
      "            \"message\": \"See LGBTQ June Pride events from around the world in our #Daily360: http://nyti.ms/2qzoS6f\"\n",
      "        }, \n",
      "        {\n",
      "            \"created_time\": \"2017-06-25T15:55:00+0000\", \n",
      "            \"id\": \"5281959998_10151213188244999\", \n",
      "            \"message\": \"Sailors have been falling off boats for as long as there have been boats. Even the world\\u2019s best are not immune.\"\n",
      "        }, \n",
      "        {\n",
      "            \"created_time\": \"2017-06-25T15:16:40+0000\", \n",
      "            \"id\": \"5281959998_10151213165764999\", \n",
      "            \"message\": \"A rare glimpse into the handful of secret and increasingly risky commando raids of the secretive, nearly 3-year American ground war against the Islamic State.\"\n",
      "        }, \n",
      "        {\n",
      "            \"created_time\": \"2017-06-25T14:25:00+0000\", \n",
      "            \"id\": \"5281959998_10151212503559999\", \n",
      "            \"message\": \"Immigrants have transformed Houston into one of America\\u2019s most diverse and most international cities. We asked them about America in the Trump era: \\n\\n- \\\"Just replace the English words with Arabic words, and you have a Syrian cabinet meeting. I left the Middle East for a reason.\\\"\\n\\n- \\\"I spent 27 years here and I never hear anything in the media so anti-presidential, never, ever in my life.\\\"\\n\\n- \\\"My mom tells me all the time, 'I'm so glad you\\u2019re over there.' \\\"\"\n",
      "        }, \n",
      "        {\n",
      "            \"created_time\": \"2017-06-25T13:55:00+0000\", \n",
      "            \"id\": \"5281959998_10151211769369999\", \n",
      "            \"message\": \"\\u201cI\\u2019d been living with him for three years,\\u201d one man said, \\u201cand they still didn\\u2019t know I was gay.\\\"\"\n",
      "        }, \n",
      "        {\n",
      "            \"created_time\": \"2017-06-25T13:25:00+0000\", \n",
      "            \"id\": \"5281959998_10151207320219999\", \n",
      "            \"message\": \"\\\"You can tell people that without these books, President Obama would not have been there.\\\"\"\n",
      "        }, \n",
      "        {\n",
      "            \"created_time\": \"2017-06-25T12:55:00+0000\", \n",
      "            \"id\": \"5281959998_10151211714944999\", \n",
      "            \"message\": \"Eid Mubarak.\"\n",
      "        }, \n",
      "        {\n",
      "            \"created_time\": \"2017-06-25T12:25:00+0000\", \n",
      "            \"id\": \"5281959998_10151211643169999\", \n",
      "            \"message\": \"Dubrovnik has long been able to get by on its looks alone. But things are changing in this Croatian city.\"\n",
      "        }, \n",
      "        {\n",
      "            \"created_time\": \"2017-06-25T11:55:00+0000\", \n",
      "            \"id\": \"5281959998_10151212441669999\", \n",
      "            \"message\": \"Drivers like Sinclair Browne play the most crucial role in solving the online grocery industry's biggest problem: delivering food, undamaged and unspoiled, to the customer's house.\"\n",
      "        }, \n",
      "        {\n",
      "            \"created_time\": \"2017-06-25T11:25:00+0000\", \n",
      "            \"id\": \"5281959998_10151211763559999\", \n",
      "            \"message\": \"Historically in baseball, it just hasn\\u2019t happened. But maybe now is the time.\"\n",
      "        }, \n",
      "        {\n",
      "            \"created_time\": \"2017-06-25T10:55:01+0000\", \n",
      "            \"id\": \"5281959998_10151212464279999\", \n",
      "            \"message\": \"\\\"People in Europe don't really know a lot about NASCAR. I just thought it was a bunch of people turning left.\\\"\"\n",
      "        }, \n",
      "        {\n",
      "            \"created_time\": \"2017-06-25T10:25:00+0000\", \n",
      "            \"id\": \"5281959998_10151210542124999\", \n",
      "            \"message\": \"He suddenly had a thought: Could those squirrels have anything to do with this strange illness that no one could figure out?\"\n",
      "        }, \n",
      "        {\n",
      "            \"created_time\": \"2017-06-25T09:55:00+0000\", \n",
      "            \"id\": \"5281959998_10151212527479999\", \n",
      "            \"message\": \"From The New York Times Opinion Section: \\n\\nIt's an all-American Ramadan ritual. I've had suhoor at an IHOP in every U.S. city I've lived in. And after what happened to Nabra Hassanen, I don't know whether this ritual will ever feel the same.\"\n",
      "        }, \n",
      "        {\n",
      "            \"created_time\": \"2017-06-25T09:25:00+0000\", \n",
      "            \"id\": \"5281959998_10151208453474999\", \n",
      "            \"message\": \"In a city synonymous with culture, the Op\\u00e9ra Comique is making a conscious effort to create 21st-century art for modern Parisians.\"\n",
      "        }, \n",
      "        {\n",
      "            \"created_time\": \"2017-06-25T08:55:00+0000\", \n",
      "            \"id\": \"5281959998_1879393362278177\", \n",
      "            \"message\": \"North Korea has a history of holding American citizens captive. The country's tactics include coerced confessions, harsh sentences and using detainees for propaganda purposes.\"\n",
      "        }, \n",
      "        {\n",
      "            \"created_time\": \"2017-06-25T08:25:00+0000\", \n",
      "            \"id\": \"5281959998_10151207333374999\", \n",
      "            \"message\": \"Geysers, waterfalls and glaciers, oh my.\"\n",
      "        }, \n",
      "        {\n",
      "            \"created_time\": \"2017-06-25T07:25:00+0000\", \n",
      "            \"id\": \"5281959998_10151212561709999\", \n",
      "            \"message\": \"Unlike many other African nations emerging from war, Angola had more than enough money to rebuild, on its own terms, a landscape destroyed by conflict. But that money was wasted.\"\n",
      "        }, \n",
      "        {\n",
      "            \"created_time\": \"2017-06-25T06:55:01+0000\", \n",
      "            \"id\": \"5281959998_10151212564624999\", \n",
      "            \"message\": \"North Korea has yet to announce whether it wants to attend the Pyeongchang Olympics. The North and South remain bitter political and sports rivals.\"\n",
      "        }, \n",
      "        {\n",
      "            \"created_time\": \"2017-06-25T06:25:00+0000\", \n",
      "            \"id\": \"5281959998_10151207237284999\", \n",
      "            \"message\": \"\\u201cIf a bird song sounds musical to human ears, odds are that similar human music will sound songlike to the bird.\\u201d\"\n",
      "        }, \n",
      "        {\n",
      "            \"created_time\": \"2017-06-25T05:55:00+0000\", \n",
      "            \"id\": \"5281959998_10151211804764999\", \n",
      "            \"message\": \"44% of Americans said that they personally knew someone who had been shot.\"\n",
      "        }, \n",
      "        {\n",
      "            \"created_time\": \"2017-06-25T05:25:00+0000\", \n",
      "            \"id\": \"5281959998_10151209583489999\", \n",
      "            \"message\": \"Gunshots are the second leading cause of injury-related death in children, exceeded only by car accidents.\"\n",
      "        }\n",
      "    ], \n",
      "    \"paging\": {\n",
      "        \"cursors\": {\n",
      "            \"after\": \"Q2c4U1pXNTBYM0YxWlhKNVgzTjBiM0o1WDJsa0R4NDFNamd4T1RVNU9UazRPamN5TVRBek1UWTJNek00T1RrMU16a3dNalVQREdGd2FWOXpkRzl5ZAVY5cFpBOGNOVEk0TVRrMU9UazVPRjh4TURFMU1USXdPVFU0TXpRNE9UazVPUThFZAEdsdFpRWlpUMGtzQVE9PQZDZD\", \n",
      "            \"before\": \"Q2c4U1pXNTBYM0YxWlhKNVgzTjBiM0o1WDJsa0R4NDFNamd4T1RVNU9UazRPalU1T1RZAd05qVTRNVFkyTVRnek5ERTFNRFlQREdGd2FWOXpkRzl5ZAVY5cFpBOGNOVEk0TVRrMU9UazVPRjh4TURFMU1USXhNekkzTURJeE9UazVPUThFZAEdsdFpRWlpULy84QVE9PQZDZD\"\n",
      "        }, \n",
      "        \"next\": \"https://graph.facebook.com/v2.9/5281959998/feed?access_token=1864774247177888%7C2de3b80d234feaf9531526b98fa41499&limit=25&after=Q2c4U1pXNTBYM0YxWlhKNVgzTjBiM0o1WDJsa0R4NDFNamd4T1RVNU9UazRPamN5TVRBek1UWTJNek00T1RrMU16a3dNalVQREdGd2FWOXpkRzl5ZAVY5cFpBOGNOVEk0TVRrMU9UazVPRjh4TURFMU1USXdPVFU0TXpRNE9UazVPUThFZAEdsdFpRWlpUMGtzQVE9PQZDZD\"\n",
      "    }\n",
      "}\n"
     ]
    }
   ],
   "source": [
    "testFacebookPageFeedData(\"nytimes\", access_token)"
   ]
  },
  {
   "cell_type": "code",
   "execution_count": null,
   "metadata": {
    "collapsed": true
   },
   "outputs": [],
   "source": []
  }
 ],
 "metadata": {
  "kernelspec": {
   "display_name": "Python 2",
   "language": "python",
   "name": "python2"
  },
  "language_info": {
   "codemirror_mode": {
    "name": "ipython",
    "version": 2
   },
   "file_extension": ".py",
   "mimetype": "text/x-python",
   "name": "python",
   "nbconvert_exporter": "python",
   "pygments_lexer": "ipython2",
   "version": "2.7.13"
  }
 },
 "nbformat": 4,
 "nbformat_minor": 2
}
